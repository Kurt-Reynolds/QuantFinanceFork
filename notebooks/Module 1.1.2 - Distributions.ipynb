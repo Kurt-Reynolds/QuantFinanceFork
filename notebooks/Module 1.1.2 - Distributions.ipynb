{
 "cells": [
  {
   "cell_type": "markdown",
   "metadata": {},
   "source": [
    "# Introduction to Quantitative Finance\n",
    "\n",
    "Copyright (c) 2019 Python Charmers Pty Ltd, Australia, <https://pythoncharmers.com>. All rights reserved.\n",
    "\n",
    "<img src=\"img/python_charmers_logo.png\" width=\"300\" alt=\"Python Charmers Logo\">\n",
    "\n",
    "Published under the Creative Commons Attribution-NonCommercial 4.0 International (CC BY-NC 4.0) license. See `LICENSE.md` for details.\n",
    "\n",
    "Sponsored by Tibra Global Services, <https://tibra.com>\n",
    "\n",
    "<img src=\"img/tibra_logo.png\" width=\"300\" alt=\"Tibra Logo\">\n",
    "\n",
    "\n",
    "## Module 1.1: Distributions and Random Processes\n",
    "\n",
    "### 1.1.2: Distributions\n",
    "\n",
    "Many real world phenomena can be modelled with random variables, which is particularly useful when we do not have all possible information about a given environment. Consider a die roll, where we throw a die into the air, and see which number is on top.\n",
    "\n",
    "The die has six possible outcomes: 1, 2, 3, 4, 5 and 6, which are the possible states or values. It is impossible* to get a value other than these six distinct possible.\n",
    "\n",
    "<div class=\"alert alert-warning\">\n",
    "    * Some might argue that it would be possible to properly model a die throw and know what the result would be. Whether it is possible is the type of question that keeps physicists up at night, however it almost certainly would be more effort than it's worth.\n",
    "</div>\n",
    "\n",
    "Here is a simulation of a die roll."
   ]
  },
  {
   "cell_type": "code",
   "execution_count": 1,
   "metadata": {},
   "outputs": [
    {
     "data": {
      "text/plain": [
       "2"
      ]
     },
     "execution_count": 1,
     "metadata": {},
     "output_type": "execute_result"
    }
   ],
   "source": [
    "import random\n",
    "\n",
    "possible_states = [1, 2, 3, 4, 5, 6]\n",
    "\n",
    "random.choice(possible_states)"
   ]
  },
  {
   "cell_type": "markdown",
   "metadata": {},
   "source": [
    "If we run this simulation 100,000 times, we can get an *empirical estimate* of the distribution:"
   ]
  },
  {
   "cell_type": "code",
   "execution_count": 2,
   "metadata": {},
   "outputs": [],
   "source": [
    "NUM_TRIALS = 100000\n",
    "\n",
    "results = [random.choice(possible_states) for i in range(NUM_TRIALS)]\n"
   ]
  },
  {
   "cell_type": "code",
   "execution_count": 3,
   "metadata": {},
   "outputs": [
    {
     "data": {
      "text/plain": [
       "Counter({2: 16912, 4: 16710, 5: 16671, 1: 16669, 6: 16613, 3: 16425})"
      ]
     },
     "execution_count": 3,
     "metadata": {},
     "output_type": "execute_result"
    }
   ],
   "source": [
    "from collections import Counter\n",
    "counts = Counter(results)\n",
    "counts"
   ]
  },
  {
   "cell_type": "code",
   "execution_count": 4,
   "metadata": {},
   "outputs": [
    {
     "data": {
      "text/plain": [
       "RendererRegistry.enable('default')"
      ]
     },
     "execution_count": 4,
     "metadata": {},
     "output_type": "execute_result"
    }
   ],
   "source": [
    "import altair as alt\n",
    "import vega\n",
    "alt.renderers.enable('default')  # Setup your environment to show altair plots.  Note this option depends on where you are running your code."
   ]
  },
  {
   "cell_type": "code",
   "execution_count": 5,
   "metadata": {},
   "outputs": [
    {
     "name": "stdout",
     "output_type": "stream",
     "text": [
      "   state  count\n",
      "0      1  16669\n",
      "1      2  16912\n",
      "2      3  16425\n",
      "3      4  16710\n",
      "4      5  16671\n",
      "5      6  16613\n"
     ]
    },
    {
     "data": {
      "text/html": [
       "\n",
       "<style>\n",
       "  #altair-viz-6ce9feda9e054c7f99cdbf8404f9a4a0.vega-embed {\n",
       "    width: 100%;\n",
       "    display: flex;\n",
       "  }\n",
       "\n",
       "  #altair-viz-6ce9feda9e054c7f99cdbf8404f9a4a0.vega-embed details,\n",
       "  #altair-viz-6ce9feda9e054c7f99cdbf8404f9a4a0.vega-embed details summary {\n",
       "    position: relative;\n",
       "  }\n",
       "</style>\n",
       "<div id=\"altair-viz-6ce9feda9e054c7f99cdbf8404f9a4a0\"></div>\n",
       "<script type=\"text/javascript\">\n",
       "  var VEGA_DEBUG = (typeof VEGA_DEBUG == \"undefined\") ? {} : VEGA_DEBUG;\n",
       "  (function(spec, embedOpt){\n",
       "    let outputDiv = document.currentScript.previousElementSibling;\n",
       "    if (outputDiv.id !== \"altair-viz-6ce9feda9e054c7f99cdbf8404f9a4a0\") {\n",
       "      outputDiv = document.getElementById(\"altair-viz-6ce9feda9e054c7f99cdbf8404f9a4a0\");\n",
       "    }\n",
       "    const paths = {\n",
       "      \"vega\": \"https://cdn.jsdelivr.net/npm/vega@5?noext\",\n",
       "      \"vega-lib\": \"https://cdn.jsdelivr.net/npm/vega-lib?noext\",\n",
       "      \"vega-lite\": \"https://cdn.jsdelivr.net/npm/vega-lite@5.14.1?noext\",\n",
       "      \"vega-embed\": \"https://cdn.jsdelivr.net/npm/vega-embed@6?noext\",\n",
       "    };\n",
       "\n",
       "    function maybeLoadScript(lib, version) {\n",
       "      var key = `${lib.replace(\"-\", \"\")}_version`;\n",
       "      return (VEGA_DEBUG[key] == version) ?\n",
       "        Promise.resolve(paths[lib]) :\n",
       "        new Promise(function(resolve, reject) {\n",
       "          var s = document.createElement('script');\n",
       "          document.getElementsByTagName(\"head\")[0].appendChild(s);\n",
       "          s.async = true;\n",
       "          s.onload = () => {\n",
       "            VEGA_DEBUG[key] = version;\n",
       "            return resolve(paths[lib]);\n",
       "          };\n",
       "          s.onerror = () => reject(`Error loading script: ${paths[lib]}`);\n",
       "          s.src = paths[lib];\n",
       "        });\n",
       "    }\n",
       "\n",
       "    function showError(err) {\n",
       "      outputDiv.innerHTML = `<div class=\"error\" style=\"color:red;\">${err}</div>`;\n",
       "      throw err;\n",
       "    }\n",
       "\n",
       "    function displayChart(vegaEmbed) {\n",
       "      vegaEmbed(outputDiv, spec, embedOpt)\n",
       "        .catch(err => showError(`Javascript Error: ${err.message}<br>This usually means there's a typo in your chart specification. See the javascript console for the full traceback.`));\n",
       "    }\n",
       "\n",
       "    if(typeof define === \"function\" && define.amd) {\n",
       "      requirejs.config({paths});\n",
       "      require([\"vega-embed\"], displayChart, err => showError(`Error loading script: ${err.message}`));\n",
       "    } else {\n",
       "      maybeLoadScript(\"vega\", \"5\")\n",
       "        .then(() => maybeLoadScript(\"vega-lite\", \"5.14.1\"))\n",
       "        .then(() => maybeLoadScript(\"vega-embed\", \"6\"))\n",
       "        .catch(showError)\n",
       "        .then(() => displayChart(vegaEmbed));\n",
       "    }\n",
       "  })({\"config\": {\"view\": {\"continuousWidth\": 300, \"continuousHeight\": 300}}, \"data\": {\"name\": \"data-0ca24a0a71daa8fd68bdcd7a67364c29\"}, \"mark\": {\"type\": \"bar\"}, \"encoding\": {\"x\": {\"field\": \"state\", \"type\": \"ordinal\"}, \"y\": {\"field\": \"count\", \"type\": \"quantitative\"}}, \"$schema\": \"https://vega.github.io/schema/vega-lite/v5.14.1.json\", \"datasets\": {\"data-0ca24a0a71daa8fd68bdcd7a67364c29\": [{\"state\": 1, \"count\": 16669}, {\"state\": 2, \"count\": 16912}, {\"state\": 3, \"count\": 16425}, {\"state\": 4, \"count\": 16710}, {\"state\": 5, \"count\": 16671}, {\"state\": 6, \"count\": 16613}]}}, {\"mode\": \"vega-lite\"});\n",
       "</script>"
      ],
      "text/plain": [
       "alt.Chart(...)"
      ]
     },
     "execution_count": 5,
     "metadata": {},
     "output_type": "execute_result"
    }
   ],
   "source": [
    "import pandas as pd\n",
    "\n",
    "die_rolls = pd.DataFrame({\n",
    "    'state': possible_states,\n",
    "    'count': [counts.get(state, 0) for state in possible_states]\n",
    "})\n",
    "\n",
    "print(die_rolls)\n",
    "\n",
    "alt.Chart(die_rolls).mark_bar().encode(\n",
    "    x='state:O',\n",
    "    y='count'\n",
    ")"
   ]
  },
  {
   "cell_type": "markdown",
   "metadata": {},
   "source": [
    "As one might expect with a \"fair\" die roll like this, the estimates are about the same (your results may vary).\n",
    "\n",
    "More formally, we have a random variable $X$ such that the value of $X$ is the result of rolling a fair die. The distribution of $X$ is the following:\n",
    "\n",
    "\n",
    "$\n",
    "\\begin{gather*}\n",
    "  P(X=x) = \\begin{cases}\n",
    "  \\frac{1}{6} & \\text{if $x \\in \\{1,2,3,4,5,6\\}$}\\\\\n",
    "  0 & \\text{otherwise.}\n",
    "  \\end{cases}\n",
    "\\end{gather*}\n",
    "$\n",
    "\n",
    "In this case, all options (at least, the valid ones) have the same likelihood of appearing, and therefore the resulting distribution is known as a *uniform distribution*. Uniform distributions can occur for both discrete and continuous variables.\n",
    "\n",
    "A **discrete** variable is one that takes on a fixed set of values, such as a die roll or the month you were born. They are usually finite (i.e. there is only so many of them), but the requirement is technically that they be *countable*, which allows for infinite discrete values (think of the integers as a discrete infinite random variable).\n",
    "\n",
    "A **continuous** variable is one that can take on an arbitrary value. As an example, the amount of liquid in a cup is continuous. It can be 350ml, or 350.1ml, or 350.1252342ml, or so on, with infinite precision (we will ignore the effect of the Planck constant). \n",
    "\n",
    "Distributions exist for both discrete random variables, as we saw above, and for continuous random variables, however they often behave differently."
   ]
  },
  {
   "cell_type": "code",
   "execution_count": 6,
   "metadata": {},
   "outputs": [
    {
     "data": {
      "text/html": [
       "<!-- Run me, but there is  need to worry about this code - \n",
       "    it makes the equation in the next cell larger and more readable -->\n",
       "<style>\n",
       "    .big_function {font-size: 200%;}\n",
       "</style>\n"
      ],
      "text/plain": [
       "<IPython.core.display.HTML object>"
      ]
     },
     "metadata": {},
     "output_type": "display_data"
    }
   ],
   "source": [
    "%%html\n",
    "<!-- Run me, but there is  need to worry about this code - \n",
    "    it makes the equation in the next cell larger and more readable -->\n",
    "<style>\n",
    "    .big_function {font-size: 200%;}\n",
    "</style>"
   ]
  },
  {
   "cell_type": "markdown",
   "metadata": {},
   "source": [
    "### Normal Distributions\n",
    "Let's create a normal distribution, which is a continuous distribution centred around 0 and with a standard deviation of 1.\n",
    "\n",
    "A normal distribution is the most commonly seen continuous distribution, and the one most people are familiar with. The equation for the graph is:\n",
    "\n",
    "<div class=\"big_function\">\n",
    "    $y = \\frac{1}{\\sqrt{2\\pi\\sigma^2}}e^{-\\frac{(x-\\mu)^2}{2\\sigma^2}}$\n",
    "</div>"
   ]
  },
  {
   "cell_type": "code",
   "execution_count": 7,
   "metadata": {},
   "outputs": [],
   "source": [
    "# Let's plot that out\n",
    "import numpy as np\n",
    "x = np.linspace(-5, 5, 1000)  # 1000 linearly spaced points starting -5 going to 5\n",
    "\n",
    "mean = 0\n",
    "sigma = 1\n",
    "\n",
    "y = (1 / np.sqrt(2 * np.pi * sigma ** 2)) * np.e ** -((x - mean) ** 2) / (2 * sigma ** 2)\n",
    "\n",
    "# Or a bit more nicely laid out...\n",
    "\n",
    "scale_term = (1 / np.sqrt(2 * np.pi * sigma ** 2))\n",
    "exponent_term = ((x - mean) ** 2) / (2 * sigma ** 2)\n",
    "y = scale_term * np.e ** -exponent_term"
   ]
  },
  {
   "cell_type": "code",
   "execution_count": 10,
   "metadata": {},
   "outputs": [
    {
     "data": {
      "image/png": "[encoded data removed]",
      "text/plain": [
       "<Figure size 640x480 with 1 Axes>"
      ]
     },
     "metadata": {},
     "output_type": "display_data"
    }
   ],
   "source": [
    "from matplotlib import pyplot as plt\n",
    "plt.plot(x, y, \"-\");"
   ]
  },
  {
   "cell_type": "code",
   "execution_count": 11,
   "metadata": {},
   "outputs": [],
   "source": [
    "from scipy import stats"
   ]
  },
  {
   "cell_type": "code",
   "execution_count": 12,
   "metadata": {},
   "outputs": [],
   "source": [
    "n = stats.norm(0, 1)"
   ]
  },
  {
   "cell_type": "code",
   "execution_count": 13,
   "metadata": {},
   "outputs": [
    {
     "data": {
      "text/plain": [
       "array([ 0.62318781,  1.84129667, -1.04849253,  1.08067887,  2.23863216,\n",
       "        0.27363589, -0.46170178,  1.21875751,  1.26675565,  0.41364516])"
      ]
     },
     "execution_count": 13,
     "metadata": {},
     "output_type": "execute_result"
    }
   ],
   "source": [
    "# Generate 10 random variates from this distribution\n",
    "n.rvs(10)"
   ]
  },
  {
   "cell_type": "code",
   "execution_count": 14,
   "metadata": {},
   "outputs": [],
   "source": [
    "# note that Counter isn't very helpful here. It is *highly* likely that all counts will be 1\n",
    "# regardless of how many values you generate. In fact, it's nearly impossible to get the same value twice.\n",
    "results = n.rvs(10)"
   ]
  },
  {
   "cell_type": "code",
   "execution_count": 15,
   "metadata": {},
   "outputs": [
    {
     "data": {
      "text/plain": [
       "Counter({0.3211336560028366: 1,\n",
       "         1.2400930245242288: 1,\n",
       "         -0.7503186797644632: 1,\n",
       "         -0.7202479702593523: 1,\n",
       "         -0.8988909102299325: 1,\n",
       "         -1.0064990787957984: 1,\n",
       "         0.9038729455373811: 1,\n",
       "         0.9583035381847376: 1,\n",
       "         1.1261135915173448: 1,\n",
       "         1.1511268802982144: 1})"
      ]
     },
     "execution_count": 15,
     "metadata": {},
     "output_type": "execute_result"
    }
   ],
   "source": [
    "Counter(results)"
   ]
  },
  {
   "cell_type": "code",
   "execution_count": 33,
   "metadata": {},
   "outputs": [
    {
     "data": {
      "text/html": [
       "\n",
       "<style>\n",
       "  #altair-viz-e3a6111f08ef42259a3f5dfd5c5d68f0.vega-embed {\n",
       "    width: 100%;\n",
       "    display: flex;\n",
       "  }\n",
       "\n",
       "  #altair-viz-e3a6111f08ef42259a3f5dfd5c5d68f0.vega-embed details,\n",
       "  #altair-viz-e3a6111f08ef42259a3f5dfd5c5d68f0.vega-embed details summary {\n",
       "    position: relative;\n",
       "  }\n",
       "</style>\n",
       "<div id=\"altair-viz-e3a6111f08ef42259a3f5dfd5c5d68f0\"></div>\n",
       "<script type=\"text/javascript\">\n",
       "  var VEGA_DEBUG = (typeof VEGA_DEBUG == \"undefined\") ? {} : VEGA_DEBUG;\n",
       "  (function(spec, embedOpt){\n",
       "    let outputDiv = document.currentScript.previousElementSibling;\n",
       "    if (outputDiv.id !== \"altair-viz-e3a6111f08ef42259a3f5dfd5c5d68f0\") {\n",
       "      outputDiv = document.getElementById(\"altair-viz-e3a6111f08ef42259a3f5dfd5c5d68f0\");\n",
       "    }\n",
       "    const paths = {\n",
       "      \"vega\": \"https://cdn.jsdelivr.net/npm/vega@5?noext\",\n",
       "      \"vega-lib\": \"https://cdn.jsdelivr.net/npm/vega-lib?noext\",\n",
       "      \"vega-lite\": \"https://cdn.jsdelivr.net/npm/vega-lite@5.14.1?noext\",\n",
       "      \"vega-embed\": \"https://cdn.jsdelivr.net/npm/vega-embed@6?noext\",\n",
       "    };\n",
       "\n",
       "    function maybeLoadScript(lib, version) {\n",
       "      var key = `${lib.replace(\"-\", \"\")}_version`;\n",
       "      return (VEGA_DEBUG[key] == version) ?\n",
       "        Promise.resolve(paths[lib]) :\n",
       "        new Promise(function(resolve, reject) {\n",
       "          var s = document.createElement('script');\n",
       "          document.getElementsByTagName(\"head\")[0].appendChild(s);\n",
       "          s.async = true;\n",
       "          s.onload = () => {\n",
       "            VEGA_DEBUG[key] = version;\n",
       "            return resolve(paths[lib]);\n",
       "          };\n",
       "          s.onerror = () => reject(`Error loading script: ${paths[lib]}`);\n",
       "          s.src = paths[lib];\n",
       "        });\n",
       "    }\n",
       "\n",
       "    function showError(err) {\n",
       "      outputDiv.innerHTML = `<div class=\"error\" style=\"color:red;\">${err}</div>`;\n",
       "      throw err;\n",
       "    }\n",
       "\n",
       "    function displayChart(vegaEmbed) {\n",
       "      vegaEmbed(outputDiv, spec, embedOpt)\n",
       "        .catch(err => showError(`Javascript Error: ${err.message}<br>This usually means there's a typo in your chart specification. See the javascript console for the full traceback.`));\n",
       "    }\n",
       "\n",
       "    if(typeof define === \"function\" && define.amd) {\n",
       "      requirejs.config({paths});\n",
       "      require([\"vega-embed\"], displayChart, err => showError(`Error loading script: ${err.message}`));\n",
       "    } else {\n",
       "      maybeLoadScript(\"vega\", \"5\")\n",
       "        .then(() => maybeLoadScript(\"vega-lite\", \"5.14.1\"))\n",
       "        .then(() => maybeLoadScript(\"vega-embed\", \"6\"))\n",
       "        .catch(showError)\n",
       "        .then(() => displayChart(vegaEmbed));\n",
       "    }\n",
       "  })({\"config\": {\"view\": {\"continuousWidth\": 300, \"continuousHeight\": 300}}, \"data\": {\"url\": \"altair-temp-data/-213f70b6c06ae7bd442c5e4722897fa5.json\", \"format\": {\"type\": \"json\"}}, \"mark\": {\"type\": \"bar\"}, \"encoding\": {\"color\": {\"value\": \"#aa00af\"}, \"x\": {\"bin\": {\"maxbins\": 100}, \"field\": \"value\", \"type\": \"quantitative\"}, \"y\": {\"aggregate\": \"count\", \"type\": \"quantitative\"}}, \"$schema\": \"https://vega.github.io/schema/vega-lite/v5.14.1.json\"}, {\"mode\": \"vega-lite\"});\n",
       "</script>"
      ],
      "text/plain": [
       "alt.Chart(...)"
      ]
     },
     "execution_count": 33,
     "metadata": {},
     "output_type": "execute_result"
    }
   ],
   "source": [
    "# Histograms work better here\n",
    "\n",
    "normal_values = pd.DataFrame({\"value\": n.rvs(5000)})\n",
    "\n",
    "alt.Chart(normal_values).mark_bar().encode(\n",
    "    alt.X(\"value\", bin=alt.Bin(maxbins=100)),\n",
    "    y='count()',\n",
    "    color=alt.value('#aa00af'),  # Aside: Note US spelling. Also try \"hex codes\": https://htmlcolorcodes.com/\n",
    ")"
   ]
  },
  {
   "cell_type": "markdown",
   "metadata": {},
   "source": [
    "\n",
    "<div class=\"alert alert-success\">\n",
    "Note that Altair won't let us directly compute a histogram with more than 5000 rows. To do that, check out this example, which saves the data to a local temporary json file, and then displays from that. Without doing this, Altair embeds a *copy* of the data in a graph!"
   ]
  },
  {
   "cell_type": "code",
   "execution_count": 17,
   "metadata": {
    "scrolled": false
   },
   "outputs": [
    {
     "data": {
      "text/html": [
       "\n",
       "<style>\n",
       "  #altair-viz-b41ce893bdc54a6ab327cd387759d52e.vega-embed {\n",
       "    width: 100%;\n",
       "    display: flex;\n",
       "  }\n",
       "\n",
       "  #altair-viz-b41ce893bdc54a6ab327cd387759d52e.vega-embed details,\n",
       "  #altair-viz-b41ce893bdc54a6ab327cd387759d52e.vega-embed details summary {\n",
       "    position: relative;\n",
       "  }\n",
       "</style>\n",
       "<div id=\"altair-viz-b41ce893bdc54a6ab327cd387759d52e\"></div>\n",
       "<script type=\"text/javascript\">\n",
       "  var VEGA_DEBUG = (typeof VEGA_DEBUG == \"undefined\") ? {} : VEGA_DEBUG;\n",
       "  (function(spec, embedOpt){\n",
       "    let outputDiv = document.currentScript.previousElementSibling;\n",
       "    if (outputDiv.id !== \"altair-viz-b41ce893bdc54a6ab327cd387759d52e\") {\n",
       "      outputDiv = document.getElementById(\"altair-viz-b41ce893bdc54a6ab327cd387759d52e\");\n",
       "    }\n",
       "    const paths = {\n",
       "      \"vega\": \"https://cdn.jsdelivr.net/npm/vega@5?noext\",\n",
       "      \"vega-lib\": \"https://cdn.jsdelivr.net/npm/vega-lib?noext\",\n",
       "      \"vega-lite\": \"https://cdn.jsdelivr.net/npm/vega-lite@5.14.1?noext\",\n",
       "      \"vega-embed\": \"https://cdn.jsdelivr.net/npm/vega-embed@6?noext\",\n",
       "    };\n",
       "\n",
       "    function maybeLoadScript(lib, version) {\n",
       "      var key = `${lib.replace(\"-\", \"\")}_version`;\n",
       "      return (VEGA_DEBUG[key] == version) ?\n",
       "        Promise.resolve(paths[lib]) :\n",
       "        new Promise(function(resolve, reject) {\n",
       "          var s = document.createElement('script');\n",
       "          document.getElementsByTagName(\"head\")[0].appendChild(s);\n",
       "          s.async = true;\n",
       "          s.onload = () => {\n",
       "            VEGA_DEBUG[key] = version;\n",
       "            return resolve(paths[lib]);\n",
       "          };\n",
       "          s.onerror = () => reject(`Error loading script: ${paths[lib]}`);\n",
       "          s.src = paths[lib];\n",
       "        });\n",
       "    }\n",
       "\n",
       "    function showError(err) {\n",
       "      outputDiv.innerHTML = `<div class=\"error\" style=\"color:red;\">${err}</div>`;\n",
       "      throw err;\n",
       "    }\n",
       "\n",
       "    function displayChart(vegaEmbed) {\n",
       "      vegaEmbed(outputDiv, spec, embedOpt)\n",
       "        .catch(err => showError(`Javascript Error: ${err.message}<br>This usually means there's a typo in your chart specification. See the javascript console for the full traceback.`));\n",
       "    }\n",
       "\n",
       "    if(typeof define === \"function\" && define.amd) {\n",
       "      requirejs.config({paths});\n",
       "      require([\"vega-embed\"], displayChart, err => showError(`Error loading script: ${err.message}`));\n",
       "    } else {\n",
       "      maybeLoadScript(\"vega\", \"5\")\n",
       "        .then(() => maybeLoadScript(\"vega-lite\", \"5.14.1\"))\n",
       "        .then(() => maybeLoadScript(\"vega-embed\", \"6\"))\n",
       "        .catch(showError)\n",
       "        .then(() => displayChart(vegaEmbed));\n",
       "    }\n",
       "  })({\"config\": {\"view\": {\"continuousWidth\": 300, \"continuousHeight\": 300}}, \"data\": {\"url\": \"altair-temp-data/-ac03c442a16323b1725651a1eb5dd28d.json\", \"format\": {\"type\": \"json\"}}, \"mark\": {\"type\": \"bar\"}, \"encoding\": {\"x\": {\"bin\": {\"maxbins\": 100}, \"field\": \"value\", \"type\": \"quantitative\"}, \"y\": {\"aggregate\": \"count\", \"type\": \"quantitative\"}}, \"$schema\": \"https://vega.github.io/schema/vega-lite/v5.14.1.json\"}, {\"mode\": \"vega-lite\"});\n",
       "</script>"
      ],
      "text/plain": [
       "alt.Chart(...)"
      ]
     },
     "execution_count": 17,
     "metadata": {},
     "output_type": "execute_result"
    }
   ],
   "source": [
    "if not alt.data_transformers.active == 'json':  # Check json isn't already active\n",
    "    import os\n",
    "    # Make a temp folder to put these json files in - Altair creates a lot of them!\n",
    "    dataset_temp_name = 'altair-temp-data/'\n",
    "    if not os.path.exists(dataset_temp_name):\n",
    "        # if the folder doesn't exist, create it\n",
    "        os.mkdir(dataset_temp_name)\n",
    "    # Tell Altair to temporary save datasets it needs to that folder\n",
    "    alt.data_transformers.enable('json', prefix=dataset_temp_name)\n",
    "\n",
    "normal_values = pd.DataFrame({\"value\": n.rvs(100000)})\n",
    "\n",
    "alt.Chart(normal_values).mark_bar().encode(\n",
    "    alt.X(\"value\", bin=alt.Bin(maxbins=100)),\n",
    "    y='count()',\n",
    ")"
   ]
  },
  {
   "cell_type": "markdown",
   "metadata": {},
   "source": [
    "Notice the shape, the famous \"bell curve\" of the normal distribution. It's heavily centred around the mean (0) and the spread of data is indicated by the standard deviation."
   ]
  },
  {
   "cell_type": "markdown",
   "metadata": {},
   "source": [
    "#### Exercises\n",
    "\n",
    "1. Plot a histogram of the standard deviation with the following properties:\n",
    "\n",
    "    1. Mean ($\\mu$) of 1, standard deviation ($\\sigma$) of 7\n",
    "    2. $\\mu=10, \\sigma=1$\n",
    "    3. $\\mu=-10, \\sigma=5$\n",
    "2. Create a python function that accepts two inputs (`mean` and `standard_deviation`) and plots the histogram as per question 1.\n",
    "\n",
    "3. Investigate the documentation of Altair and overlay these plots on top of each other, with different colours, giving a result that looks like this:\n",
    "<img src=\"img/snapshot.png\">"
   ]
  },
  {
   "cell_type": "code",
   "execution_count": 18,
   "metadata": {},
   "outputs": [
    {
     "data": {
      "text/html": [
       "\n",
       "<style>\n",
       "  #altair-viz-ced7b1abe52843379099b356a77bdec1.vega-embed {\n",
       "    width: 100%;\n",
       "    display: flex;\n",
       "  }\n",
       "\n",
       "  #altair-viz-ced7b1abe52843379099b356a77bdec1.vega-embed details,\n",
       "  #altair-viz-ced7b1abe52843379099b356a77bdec1.vega-embed details summary {\n",
       "    position: relative;\n",
       "  }\n",
       "</style>\n",
       "<div id=\"altair-viz-ced7b1abe52843379099b356a77bdec1\"></div>\n",
       "<script type=\"text/javascript\">\n",
       "  var VEGA_DEBUG = (typeof VEGA_DEBUG == \"undefined\") ? {} : VEGA_DEBUG;\n",
       "  (function(spec, embedOpt){\n",
       "    let outputDiv = document.currentScript.previousElementSibling;\n",
       "    if (outputDiv.id !== \"altair-viz-ced7b1abe52843379099b356a77bdec1\") {\n",
       "      outputDiv = document.getElementById(\"altair-viz-ced7b1abe52843379099b356a77bdec1\");\n",
       "    }\n",
       "    const paths = {\n",
       "      \"vega\": \"https://cdn.jsdelivr.net/npm/vega@5?noext\",\n",
       "      \"vega-lib\": \"https://cdn.jsdelivr.net/npm/vega-lib?noext\",\n",
       "      \"vega-lite\": \"https://cdn.jsdelivr.net/npm/vega-lite@5.14.1?noext\",\n",
       "      \"vega-embed\": \"https://cdn.jsdelivr.net/npm/vega-embed@6?noext\",\n",
       "    };\n",
       "\n",
       "    function maybeLoadScript(lib, version) {\n",
       "      var key = `${lib.replace(\"-\", \"\")}_version`;\n",
       "      return (VEGA_DEBUG[key] == version) ?\n",
       "        Promise.resolve(paths[lib]) :\n",
       "        new Promise(function(resolve, reject) {\n",
       "          var s = document.createElement('script');\n",
       "          document.getElementsByTagName(\"head\")[0].appendChild(s);\n",
       "          s.async = true;\n",
       "          s.onload = () => {\n",
       "            VEGA_DEBUG[key] = version;\n",
       "            return resolve(paths[lib]);\n",
       "          };\n",
       "          s.onerror = () => reject(`Error loading script: ${paths[lib]}`);\n",
       "          s.src = paths[lib];\n",
       "        });\n",
       "    }\n",
       "\n",
       "    function showError(err) {\n",
       "      outputDiv.innerHTML = `<div class=\"error\" style=\"color:red;\">${err}</div>`;\n",
       "      throw err;\n",
       "    }\n",
       "\n",
       "    function displayChart(vegaEmbed) {\n",
       "      vegaEmbed(outputDiv, spec, embedOpt)\n",
       "        .catch(err => showError(`Javascript Error: ${err.message}<br>This usually means there's a typo in your chart specification. See the javascript console for the full traceback.`));\n",
       "    }\n",
       "\n",
       "    if(typeof define === \"function\" && define.amd) {\n",
       "      requirejs.config({paths});\n",
       "      require([\"vega-embed\"], displayChart, err => showError(`Error loading script: ${err.message}`));\n",
       "    } else {\n",
       "      maybeLoadScript(\"vega\", \"5\")\n",
       "        .then(() => maybeLoadScript(\"vega-lite\", \"5.14.1\"))\n",
       "        .then(() => maybeLoadScript(\"vega-embed\", \"6\"))\n",
       "        .catch(showError)\n",
       "        .then(() => displayChart(vegaEmbed));\n",
       "    }\n",
       "  })({\"config\": {\"view\": {\"continuousWidth\": 300, \"continuousHeight\": 300}}, \"data\": {\"url\": \"altair-temp-data/-72380a052da5b2944562234475fddd7d.json\", \"format\": {\"type\": \"json\"}}, \"mark\": {\"type\": \"bar\"}, \"encoding\": {\"x\": {\"bin\": {\"maxbins\": 100}, \"field\": \"value\", \"type\": \"quantitative\"}, \"y\": {\"aggregate\": \"count\", \"type\": \"quantitative\"}}, \"title\": \"Normal Distribution histogram with mean 1 and standard deviation 7\", \"$schema\": \"https://vega.github.io/schema/vega-lite/v5.14.1.json\"}, {\"mode\": \"vega-lite\"});\n",
       "</script>"
      ],
      "text/plain": [
       "alt.Chart(...)"
      ]
     },
     "metadata": {},
     "output_type": "display_data"
    },
    {
     "data": {
      "text/html": [
       "\n",
       "<style>\n",
       "  #altair-viz-2421924a37b84103bf71bbfebb0c3b48.vega-embed {\n",
       "    width: 100%;\n",
       "    display: flex;\n",
       "  }\n",
       "\n",
       "  #altair-viz-2421924a37b84103bf71bbfebb0c3b48.vega-embed details,\n",
       "  #altair-viz-2421924a37b84103bf71bbfebb0c3b48.vega-embed details summary {\n",
       "    position: relative;\n",
       "  }\n",
       "</style>\n",
       "<div id=\"altair-viz-2421924a37b84103bf71bbfebb0c3b48\"></div>\n",
       "<script type=\"text/javascript\">\n",
       "  var VEGA_DEBUG = (typeof VEGA_DEBUG == \"undefined\") ? {} : VEGA_DEBUG;\n",
       "  (function(spec, embedOpt){\n",
       "    let outputDiv = document.currentScript.previousElementSibling;\n",
       "    if (outputDiv.id !== \"altair-viz-2421924a37b84103bf71bbfebb0c3b48\") {\n",
       "      outputDiv = document.getElementById(\"altair-viz-2421924a37b84103bf71bbfebb0c3b48\");\n",
       "    }\n",
       "    const paths = {\n",
       "      \"vega\": \"https://cdn.jsdelivr.net/npm/vega@5?noext\",\n",
       "      \"vega-lib\": \"https://cdn.jsdelivr.net/npm/vega-lib?noext\",\n",
       "      \"vega-lite\": \"https://cdn.jsdelivr.net/npm/vega-lite@5.14.1?noext\",\n",
       "      \"vega-embed\": \"https://cdn.jsdelivr.net/npm/vega-embed@6?noext\",\n",
       "    };\n",
       "\n",
       "    function maybeLoadScript(lib, version) {\n",
       "      var key = `${lib.replace(\"-\", \"\")}_version`;\n",
       "      return (VEGA_DEBUG[key] == version) ?\n",
       "        Promise.resolve(paths[lib]) :\n",
       "        new Promise(function(resolve, reject) {\n",
       "          var s = document.createElement('script');\n",
       "          document.getElementsByTagName(\"head\")[0].appendChild(s);\n",
       "          s.async = true;\n",
       "          s.onload = () => {\n",
       "            VEGA_DEBUG[key] = version;\n",
       "            return resolve(paths[lib]);\n",
       "          };\n",
       "          s.onerror = () => reject(`Error loading script: ${paths[lib]}`);\n",
       "          s.src = paths[lib];\n",
       "        });\n",
       "    }\n",
       "\n",
       "    function showError(err) {\n",
       "      outputDiv.innerHTML = `<div class=\"error\" style=\"color:red;\">${err}</div>`;\n",
       "      throw err;\n",
       "    }\n",
       "\n",
       "    function displayChart(vegaEmbed) {\n",
       "      vegaEmbed(outputDiv, spec, embedOpt)\n",
       "        .catch(err => showError(`Javascript Error: ${err.message}<br>This usually means there's a typo in your chart specification. See the javascript console for the full traceback.`));\n",
       "    }\n",
       "\n",
       "    if(typeof define === \"function\" && define.amd) {\n",
       "      requirejs.config({paths});\n",
       "      require([\"vega-embed\"], displayChart, err => showError(`Error loading script: ${err.message}`));\n",
       "    } else {\n",
       "      maybeLoadScript(\"vega\", \"5\")\n",
       "        .then(() => maybeLoadScript(\"vega-lite\", \"5.14.1\"))\n",
       "        .then(() => maybeLoadScript(\"vega-embed\", \"6\"))\n",
       "        .catch(showError)\n",
       "        .then(() => displayChart(vegaEmbed));\n",
       "    }\n",
       "  })({\"config\": {\"view\": {\"continuousWidth\": 300, \"continuousHeight\": 300}}, \"data\": {\"url\": \"altair-temp-data/-6f98fde2c06d09f27669268aacd8b95b.json\", \"format\": {\"type\": \"json\"}}, \"mark\": {\"type\": \"bar\"}, \"encoding\": {\"x\": {\"bin\": {\"maxbins\": 100}, \"field\": \"value\", \"type\": \"quantitative\"}, \"y\": {\"aggregate\": \"count\", \"type\": \"quantitative\"}}, \"title\": \"Normal Distribution histogram with mean 10 and standard deviation 1\", \"$schema\": \"https://vega.github.io/schema/vega-lite/v5.14.1.json\"}, {\"mode\": \"vega-lite\"});\n",
       "</script>"
      ],
      "text/plain": [
       "alt.Chart(...)"
      ]
     },
     "metadata": {},
     "output_type": "display_data"
    },
    {
     "data": {
      "text/html": [
       "\n",
       "<style>\n",
       "  #altair-viz-1d9871138c574e2fabbc54a88b6cc1dd.vega-embed {\n",
       "    width: 100%;\n",
       "    display: flex;\n",
       "  }\n",
       "\n",
       "  #altair-viz-1d9871138c574e2fabbc54a88b6cc1dd.vega-embed details,\n",
       "  #altair-viz-1d9871138c574e2fabbc54a88b6cc1dd.vega-embed details summary {\n",
       "    position: relative;\n",
       "  }\n",
       "</style>\n",
       "<div id=\"altair-viz-1d9871138c574e2fabbc54a88b6cc1dd\"></div>\n",
       "<script type=\"text/javascript\">\n",
       "  var VEGA_DEBUG = (typeof VEGA_DEBUG == \"undefined\") ? {} : VEGA_DEBUG;\n",
       "  (function(spec, embedOpt){\n",
       "    let outputDiv = document.currentScript.previousElementSibling;\n",
       "    if (outputDiv.id !== \"altair-viz-1d9871138c574e2fabbc54a88b6cc1dd\") {\n",
       "      outputDiv = document.getElementById(\"altair-viz-1d9871138c574e2fabbc54a88b6cc1dd\");\n",
       "    }\n",
       "    const paths = {\n",
       "      \"vega\": \"https://cdn.jsdelivr.net/npm/vega@5?noext\",\n",
       "      \"vega-lib\": \"https://cdn.jsdelivr.net/npm/vega-lib?noext\",\n",
       "      \"vega-lite\": \"https://cdn.jsdelivr.net/npm/vega-lite@5.14.1?noext\",\n",
       "      \"vega-embed\": \"https://cdn.jsdelivr.net/npm/vega-embed@6?noext\",\n",
       "    };\n",
       "\n",
       "    function maybeLoadScript(lib, version) {\n",
       "      var key = `${lib.replace(\"-\", \"\")}_version`;\n",
       "      return (VEGA_DEBUG[key] == version) ?\n",
       "        Promise.resolve(paths[lib]) :\n",
       "        new Promise(function(resolve, reject) {\n",
       "          var s = document.createElement('script');\n",
       "          document.getElementsByTagName(\"head\")[0].appendChild(s);\n",
       "          s.async = true;\n",
       "          s.onload = () => {\n",
       "            VEGA_DEBUG[key] = version;\n",
       "            return resolve(paths[lib]);\n",
       "          };\n",
       "          s.onerror = () => reject(`Error loading script: ${paths[lib]}`);\n",
       "          s.src = paths[lib];\n",
       "        });\n",
       "    }\n",
       "\n",
       "    function showError(err) {\n",
       "      outputDiv.innerHTML = `<div class=\"error\" style=\"color:red;\">${err}</div>`;\n",
       "      throw err;\n",
       "    }\n",
       "\n",
       "    function displayChart(vegaEmbed) {\n",
       "      vegaEmbed(outputDiv, spec, embedOpt)\n",
       "        .catch(err => showError(`Javascript Error: ${err.message}<br>This usually means there's a typo in your chart specification. See the javascript console for the full traceback.`));\n",
       "    }\n",
       "\n",
       "    if(typeof define === \"function\" && define.amd) {\n",
       "      requirejs.config({paths});\n",
       "      require([\"vega-embed\"], displayChart, err => showError(`Error loading script: ${err.message}`));\n",
       "    } else {\n",
       "      maybeLoadScript(\"vega\", \"5\")\n",
       "        .then(() => maybeLoadScript(\"vega-lite\", \"5.14.1\"))\n",
       "        .then(() => maybeLoadScript(\"vega-embed\", \"6\"))\n",
       "        .catch(showError)\n",
       "        .then(() => displayChart(vegaEmbed));\n",
       "    }\n",
       "  })({\"config\": {\"view\": {\"continuousWidth\": 300, \"continuousHeight\": 300}}, \"data\": {\"url\": \"altair-temp-data/-5d3265d825328ede49d0f891857846b8.json\", \"format\": {\"type\": \"json\"}}, \"mark\": {\"type\": \"bar\"}, \"encoding\": {\"x\": {\"bin\": {\"maxbins\": 100}, \"field\": \"value\", \"type\": \"quantitative\"}, \"y\": {\"aggregate\": \"count\", \"type\": \"quantitative\"}}, \"title\": \"Normal Distribution histogram with mean -10 and standard deviation 5\", \"$schema\": \"https://vega.github.io/schema/vega-lite/v5.14.1.json\"}, {\"mode\": \"vega-lite\"});\n",
       "</script>"
      ],
      "text/plain": [
       "alt.Chart(...)"
      ]
     },
     "metadata": {},
     "output_type": "display_data"
    }
   ],
   "source": [
    "# (1) (doing is from scratch so just this chunk can be run)\n",
    "import pandas as pd\n",
    "from scipy import stats\n",
    "import altair as alt\n",
    "alt.renderers.enable('default')\n",
    "\n",
    "mean_std_list = [(1,7), (10,1), (-10,5)]\n",
    "\n",
    "for vals in mean_std_list:\n",
    "    norm_dist_func = stats.norm(vals[0], vals[1])\n",
    "    results = norm_dist_func.rvs(1000)\n",
    "    normal_values = pd.DataFrame({\"value\": results})\n",
    "    norm_plot = alt.Chart(normal_values, title=\"Normal Distribution histogram with mean \" + str(vals[0]) + \" and standard deviation \" + str(vals[1])).mark_bar().encode(\n",
    "    alt.X(\"value\", bin=alt.Bin(maxbins=100)),\n",
    "    y='count()',)\n",
    "    norm_plot.display()"
   ]
  },
  {
   "cell_type": "code",
   "execution_count": 19,
   "metadata": {},
   "outputs": [
    {
     "data": {
      "text/html": [
       "\n",
       "<style>\n",
       "  #altair-viz-1f7edbb944f94bc88050411c4f0cc788.vega-embed {\n",
       "    width: 100%;\n",
       "    display: flex;\n",
       "  }\n",
       "\n",
       "  #altair-viz-1f7edbb944f94bc88050411c4f0cc788.vega-embed details,\n",
       "  #altair-viz-1f7edbb944f94bc88050411c4f0cc788.vega-embed details summary {\n",
       "    position: relative;\n",
       "  }\n",
       "</style>\n",
       "<div id=\"altair-viz-1f7edbb944f94bc88050411c4f0cc788\"></div>\n",
       "<script type=\"text/javascript\">\n",
       "  var VEGA_DEBUG = (typeof VEGA_DEBUG == \"undefined\") ? {} : VEGA_DEBUG;\n",
       "  (function(spec, embedOpt){\n",
       "    let outputDiv = document.currentScript.previousElementSibling;\n",
       "    if (outputDiv.id !== \"altair-viz-1f7edbb944f94bc88050411c4f0cc788\") {\n",
       "      outputDiv = document.getElementById(\"altair-viz-1f7edbb944f94bc88050411c4f0cc788\");\n",
       "    }\n",
       "    const paths = {\n",
       "      \"vega\": \"https://cdn.jsdelivr.net/npm/vega@5?noext\",\n",
       "      \"vega-lib\": \"https://cdn.jsdelivr.net/npm/vega-lib?noext\",\n",
       "      \"vega-lite\": \"https://cdn.jsdelivr.net/npm/vega-lite@5.14.1?noext\",\n",
       "      \"vega-embed\": \"https://cdn.jsdelivr.net/npm/vega-embed@6?noext\",\n",
       "    };\n",
       "\n",
       "    function maybeLoadScript(lib, version) {\n",
       "      var key = `${lib.replace(\"-\", \"\")}_version`;\n",
       "      return (VEGA_DEBUG[key] == version) ?\n",
       "        Promise.resolve(paths[lib]) :\n",
       "        new Promise(function(resolve, reject) {\n",
       "          var s = document.createElement('script');\n",
       "          document.getElementsByTagName(\"head\")[0].appendChild(s);\n",
       "          s.async = true;\n",
       "          s.onload = () => {\n",
       "            VEGA_DEBUG[key] = version;\n",
       "            return resolve(paths[lib]);\n",
       "          };\n",
       "          s.onerror = () => reject(`Error loading script: ${paths[lib]}`);\n",
       "          s.src = paths[lib];\n",
       "        });\n",
       "    }\n",
       "\n",
       "    function showError(err) {\n",
       "      outputDiv.innerHTML = `<div class=\"error\" style=\"color:red;\">${err}</div>`;\n",
       "      throw err;\n",
       "    }\n",
       "\n",
       "    function displayChart(vegaEmbed) {\n",
       "      vegaEmbed(outputDiv, spec, embedOpt)\n",
       "        .catch(err => showError(`Javascript Error: ${err.message}<br>This usually means there's a typo in your chart specification. See the javascript console for the full traceback.`));\n",
       "    }\n",
       "\n",
       "    if(typeof define === \"function\" && define.amd) {\n",
       "      requirejs.config({paths});\n",
       "      require([\"vega-embed\"], displayChart, err => showError(`Error loading script: ${err.message}`));\n",
       "    } else {\n",
       "      maybeLoadScript(\"vega\", \"5\")\n",
       "        .then(() => maybeLoadScript(\"vega-lite\", \"5.14.1\"))\n",
       "        .then(() => maybeLoadScript(\"vega-embed\", \"6\"))\n",
       "        .catch(showError)\n",
       "        .then(() => displayChart(vegaEmbed));\n",
       "    }\n",
       "  })({\"config\": {\"view\": {\"continuousWidth\": 300, \"continuousHeight\": 300}}, \"data\": {\"url\": \"altair-temp-data/-d770e13a41668f83182a9e0cb230eac3.json\", \"format\": {\"type\": \"json\"}}, \"mark\": {\"type\": \"bar\"}, \"encoding\": {\"x\": {\"bin\": {\"maxbins\": 100}, \"field\": \"value\", \"type\": \"quantitative\"}, \"y\": {\"aggregate\": \"count\", \"type\": \"quantitative\"}}, \"title\": \"Normal Distribution histogram with mean 1 and standard deviation 2\", \"$schema\": \"https://vega.github.io/schema/vega-lite/v5.14.1.json\"}, {\"mode\": \"vega-lite\"});\n",
       "</script>"
      ],
      "text/plain": [
       "alt.Chart(...)"
      ]
     },
     "metadata": {},
     "output_type": "display_data"
    }
   ],
   "source": [
    "# (2)\n",
    "def display_norm(mean, std):\n",
    "    norm_dist_func = stats.norm(mean, std)\n",
    "    results = norm_dist_func.rvs(1000)\n",
    "    normal_values = pd.DataFrame({\"value\": results})\n",
    "    norm_plot = alt.Chart(normal_values, title=\"Normal Distribution histogram with mean \" + str(mean) + \" and standard deviation \" + str(std)).mark_bar().encode(\n",
    "    alt.X(\"value\", bin=alt.Bin(maxbins=100)),\n",
    "    y='count()',)\n",
    "    norm_plot.display()\n",
    "    \n",
    "display_norm(1,2)"
   ]
  },
  {
   "cell_type": "code",
   "execution_count": 20,
   "metadata": {},
   "outputs": [
    {
     "data": {
      "text/html": [
       "\n",
       "<style>\n",
       "  #altair-viz-b0474eb7033940b49e56b733076bd378.vega-embed {\n",
       "    width: 100%;\n",
       "    display: flex;\n",
       "  }\n",
       "\n",
       "  #altair-viz-b0474eb7033940b49e56b733076bd378.vega-embed details,\n",
       "  #altair-viz-b0474eb7033940b49e56b733076bd378.vega-embed details summary {\n",
       "    position: relative;\n",
       "  }\n",
       "</style>\n",
       "<div id=\"altair-viz-b0474eb7033940b49e56b733076bd378\"></div>\n",
       "<script type=\"text/javascript\">\n",
       "  var VEGA_DEBUG = (typeof VEGA_DEBUG == \"undefined\") ? {} : VEGA_DEBUG;\n",
       "  (function(spec, embedOpt){\n",
       "    let outputDiv = document.currentScript.previousElementSibling;\n",
       "    if (outputDiv.id !== \"altair-viz-b0474eb7033940b49e56b733076bd378\") {\n",
       "      outputDiv = document.getElementById(\"altair-viz-b0474eb7033940b49e56b733076bd378\");\n",
       "    }\n",
       "    const paths = {\n",
       "      \"vega\": \"https://cdn.jsdelivr.net/npm/vega@5?noext\",\n",
       "      \"vega-lib\": \"https://cdn.jsdelivr.net/npm/vega-lib?noext\",\n",
       "      \"vega-lite\": \"https://cdn.jsdelivr.net/npm/vega-lite@5.14.1?noext\",\n",
       "      \"vega-embed\": \"https://cdn.jsdelivr.net/npm/vega-embed@6?noext\",\n",
       "    };\n",
       "\n",
       "    function maybeLoadScript(lib, version) {\n",
       "      var key = `${lib.replace(\"-\", \"\")}_version`;\n",
       "      return (VEGA_DEBUG[key] == version) ?\n",
       "        Promise.resolve(paths[lib]) :\n",
       "        new Promise(function(resolve, reject) {\n",
       "          var s = document.createElement('script');\n",
       "          document.getElementsByTagName(\"head\")[0].appendChild(s);\n",
       "          s.async = true;\n",
       "          s.onload = () => {\n",
       "            VEGA_DEBUG[key] = version;\n",
       "            return resolve(paths[lib]);\n",
       "          };\n",
       "          s.onerror = () => reject(`Error loading script: ${paths[lib]}`);\n",
       "          s.src = paths[lib];\n",
       "        });\n",
       "    }\n",
       "\n",
       "    function showError(err) {\n",
       "      outputDiv.innerHTML = `<div class=\"error\" style=\"color:red;\">${err}</div>`;\n",
       "      throw err;\n",
       "    }\n",
       "\n",
       "    function displayChart(vegaEmbed) {\n",
       "      vegaEmbed(outputDiv, spec, embedOpt)\n",
       "        .catch(err => showError(`Javascript Error: ${err.message}<br>This usually means there's a typo in your chart specification. See the javascript console for the full traceback.`));\n",
       "    }\n",
       "\n",
       "    if(typeof define === \"function\" && define.amd) {\n",
       "      requirejs.config({paths});\n",
       "      require([\"vega-embed\"], displayChart, err => showError(`Error loading script: ${err.message}`));\n",
       "    } else {\n",
       "      maybeLoadScript(\"vega\", \"5\")\n",
       "        .then(() => maybeLoadScript(\"vega-lite\", \"5.14.1\"))\n",
       "        .then(() => maybeLoadScript(\"vega-embed\", \"6\"))\n",
       "        .catch(showError)\n",
       "        .then(() => displayChart(vegaEmbed));\n",
       "    }\n",
       "  })({\"config\": {\"view\": {\"continuousWidth\": 300, \"continuousHeight\": 300}}, \"data\": {\"url\": \"altair-temp-data/-ae6905ff3a1dc73b1e60ffd47698911d.json\", \"format\": {\"type\": \"json\"}}, \"mark\": {\"type\": \"area\", \"interpolate\": \"step\", \"opacity\": 0.8}, \"encoding\": {\"color\": {\"field\": \"Columns\", \"type\": \"nominal\"}, \"x\": {\"bin\": {\"maxbins\": 300}, \"field\": \"Values\", \"type\": \"quantitative\"}, \"y\": {\"aggregate\": \"count\", \"stack\": null, \"type\": \"quantitative\"}}, \"transform\": [{\"fold\": [\"Norm 1\", \"Norm 2\", \"Norm 3\"], \"as\": [\"Columns\", \"Values\"]}], \"$schema\": \"https://vega.github.io/schema/vega-lite/v5.14.1.json\"}, {\"mode\": \"vega-lite\"});\n",
       "</script>"
      ],
      "text/plain": [
       "alt.Chart(...)"
      ]
     },
     "execution_count": 20,
     "metadata": {},
     "output_type": "execute_result"
    }
   ],
   "source": [
    "# (3) Compound Histogram Altair\n",
    "df = pd.DataFrame({'Norm 1': stats.norm(1,7).rvs(6000),\n",
    "                   'Norm 2': stats.norm(10,1).rvs(6000),\n",
    "                   'Norm 3': stats.norm(-10,5).rvs(6000)})\n",
    "\n",
    "alt.Chart(df).transform_fold(\n",
    "    ['Norm 1', 'Norm 2', 'Norm 3'],\n",
    "    as_=['Columns', 'Values']\n",
    ").mark_area(\n",
    "    opacity=0.8,\n",
    "    interpolate='step'\n",
    ").encode(\n",
    "    alt.X('Values:Q', bin=alt.Bin(maxbins=300)),\n",
    "    alt.Y('count()', stack=None),\n",
    "    alt.Color('Columns:N'))"
   ]
  },
  {
   "cell_type": "markdown",
   "metadata": {},
   "source": [
    "*For solutions, see `solutions/normal_distributions.py`*"
   ]
  },
  {
   "cell_type": "markdown",
   "metadata": {},
   "source": [
    "### Probability Density Functions\n",
    "\n",
    "The histograms we were looking at above are approximations of what is known as a *Probability Density Function*, or PDF. A PDF shows us the probability of a given value, for a discrete random variable.\n",
    "\n",
    "For a continuous random variable, any *exact* value has a probability of 0 (think about why this is the case). We can only give probabilities for ranges. For a lower bound of $a$ and an upper bound of $b$, we can obtain the probability of a random value lying between $a$ and $b$ by integrating the PDF between those values. For example, if our PDF function is $f(x)$, then the probability of random variable $X$ lying between $a$ and $b$ is given by:\n",
    "\n",
    "$P[a <= X <= b] = \\int_a^b f(x) dx$\n",
    "\n",
    "As an aside, and very informally, you can think of \"the probability of $X=2$\" as being a range *about* 2, say any value between 1.99 and 2.01 (or whatever precision makes sense in the context). Be clear on this definition when you do go to present your findings though, as a formal definition will be needed to replicate your results.\n",
    "\n",
    "We can generate the PDF through the `.pdf` method on a `scipy.stats` distribution. Earlier in this notebook we computed this manually through the equation. Now we let a library do the work for us."
   ]
  },
  {
   "cell_type": "code",
   "execution_count": 21,
   "metadata": {},
   "outputs": [],
   "source": [
    "n = stats.norm(0, 1)"
   ]
  },
  {
   "cell_type": "code",
   "execution_count": 22,
   "metadata": {},
   "outputs": [
    {
     "data": {
      "text/plain": [
       "<scipy.stats._distn_infrastructure.rv_continuous_frozen at 0x7f59f96a9960>"
      ]
     },
     "execution_count": 22,
     "metadata": {},
     "output_type": "execute_result"
    }
   ],
   "source": [
    "n"
   ]
  },
  {
   "cell_type": "code",
   "execution_count": 23,
   "metadata": {},
   "outputs": [],
   "source": [
    "x = np.linspace(-4, 4, 1000)\n",
    "y = n.pdf(x)"
   ]
  },
  {
   "cell_type": "code",
   "execution_count": 24,
   "metadata": {},
   "outputs": [
    {
     "data": {
      "image/png": "[encoded data removed]",
      "text/plain": [
       "<Figure size 640x480 with 1 Axes>"
      ]
     },
     "metadata": {},
     "output_type": "display_data"
    }
   ],
   "source": [
    "plt.plot(x, y);"
   ]
  },
  {
   "cell_type": "markdown",
   "metadata": {},
   "source": [
    "As with all probabilities, the sum or integral of the probabilities of all possible outcomes must equal one. In a die roll, each outcome (1, 2, 3, 4, 5, 6) has an probability of $\\frac{1}{6}$. Summed, that equals one.\n",
    "\n",
    "In a continuous scenario, the *area under the curve* must sum to 1.0 across the full range. That is:\n",
    "\n",
    "$\\int_{-\\infty}^{\\infty}f(x)dx = 1$\n",
    "\n",
    "<div class=\"alert alert-warning\">\n",
    "    Note that the value $f(x)$ is not a probability! It might look like one, but it's the <i>area under the curve</i> that gives us the probability.\n",
    "</div>\n",
    "\n",
    "For a given function, if it is positive or 0 everywhere, and the area under the curve integrates to 1, the function is a valid probability density function.\n",
    "\n",
    "Some functions are valid only under a given domain. For instance, the function $y = ax(b-x)$ is only positive for $0<=x<=b$. In this case, if the area under the curve sums to 1 across that domain, the function is a valid PDF for that domain.\n"
   ]
  },
  {
   "cell_type": "markdown",
   "metadata": {},
   "source": [
    "\n",
    "#### Exercises\n",
    "Using three different distribution classes in `scipy.stats`, run the following experiment:\n",
    "\n",
    "1. Compute 10,000 random values. Compute and save the mean.\n",
    "2. Repeat step 1, 1,000 times\n",
    "3. Plot the histogram of the mean values and observe the shape.\n",
    "\n",
    "Use the distributions `norm`, `cosine` and `uniform`.\n",
    "\n",
    "This finding is why the normal distribution is so important, and so commonly found in nature.\n",
    "\n",
    "**Hint:** See this example for how to do independent axes with Altair: https://altair-viz.github.io/gallery/layered_plot_with_dual_axis.html?highlight=resolve_scale\n",
    "\n",
    "#### Extended exercise\n",
    "\n",
    "Load a random dataset, and perform the same exercise with the real world data - that is, take the mean of each of 1,000 samples of size 10,000 and plot the histogram. What shaped distribution does it look like?"
   ]
  },
  {
   "cell_type": "code",
   "execution_count": 39,
   "metadata": {},
   "outputs": [
    {
     "data": {
      "text/html": [
       "\n",
       "<style>\n",
       "  #altair-viz-81dbee93e14b45d4a75c56cadd57e952.vega-embed {\n",
       "    width: 100%;\n",
       "    display: flex;\n",
       "  }\n",
       "\n",
       "  #altair-viz-81dbee93e14b45d4a75c56cadd57e952.vega-embed details,\n",
       "  #altair-viz-81dbee93e14b45d4a75c56cadd57e952.vega-embed details summary {\n",
       "    position: relative;\n",
       "  }\n",
       "</style>\n",
       "<div id=\"altair-viz-81dbee93e14b45d4a75c56cadd57e952\"></div>\n",
       "<script type=\"text/javascript\">\n",
       "  var VEGA_DEBUG = (typeof VEGA_DEBUG == \"undefined\") ? {} : VEGA_DEBUG;\n",
       "  (function(spec, embedOpt){\n",
       "    let outputDiv = document.currentScript.previousElementSibling;\n",
       "    if (outputDiv.id !== \"altair-viz-81dbee93e14b45d4a75c56cadd57e952\") {\n",
       "      outputDiv = document.getElementById(\"altair-viz-81dbee93e14b45d4a75c56cadd57e952\");\n",
       "    }\n",
       "    const paths = {\n",
       "      \"vega\": \"https://cdn.jsdelivr.net/npm/vega@5?noext\",\n",
       "      \"vega-lib\": \"https://cdn.jsdelivr.net/npm/vega-lib?noext\",\n",
       "      \"vega-lite\": \"https://cdn.jsdelivr.net/npm/vega-lite@5.14.1?noext\",\n",
       "      \"vega-embed\": \"https://cdn.jsdelivr.net/npm/vega-embed@6?noext\",\n",
       "    };\n",
       "\n",
       "    function maybeLoadScript(lib, version) {\n",
       "      var key = `${lib.replace(\"-\", \"\")}_version`;\n",
       "      return (VEGA_DEBUG[key] == version) ?\n",
       "        Promise.resolve(paths[lib]) :\n",
       "        new Promise(function(resolve, reject) {\n",
       "          var s = document.createElement('script');\n",
       "          document.getElementsByTagName(\"head\")[0].appendChild(s);\n",
       "          s.async = true;\n",
       "          s.onload = () => {\n",
       "            VEGA_DEBUG[key] = version;\n",
       "            return resolve(paths[lib]);\n",
       "          };\n",
       "          s.onerror = () => reject(`Error loading script: ${paths[lib]}`);\n",
       "          s.src = paths[lib];\n",
       "        });\n",
       "    }\n",
       "\n",
       "    function showError(err) {\n",
       "      outputDiv.innerHTML = `<div class=\"error\" style=\"color:red;\">${err}</div>`;\n",
       "      throw err;\n",
       "    }\n",
       "\n",
       "    function displayChart(vegaEmbed) {\n",
       "      vegaEmbed(outputDiv, spec, embedOpt)\n",
       "        .catch(err => showError(`Javascript Error: ${err.message}<br>This usually means there's a typo in your chart specification. See the javascript console for the full traceback.`));\n",
       "    }\n",
       "\n",
       "    if(typeof define === \"function\" && define.amd) {\n",
       "      requirejs.config({paths});\n",
       "      require([\"vega-embed\"], displayChart, err => showError(`Error loading script: ${err.message}`));\n",
       "    } else {\n",
       "      maybeLoadScript(\"vega\", \"5\")\n",
       "        .then(() => maybeLoadScript(\"vega-lite\", \"5.14.1\"))\n",
       "        .then(() => maybeLoadScript(\"vega-embed\", \"6\"))\n",
       "        .catch(showError)\n",
       "        .then(() => displayChart(vegaEmbed));\n",
       "    }\n",
       "  })({\"config\": {\"view\": {\"continuousWidth\": 300, \"continuousHeight\": 300}}, \"data\": {\"url\": \"altair-temp-data/-5361597aa8556f98d3f7bfb4aa180f3c.json\", \"format\": {\"type\": \"json\"}}, \"mark\": {\"type\": \"bar\"}, \"encoding\": {\"x\": {\"bin\": {\"maxbins\": 100}, \"field\": \"normal\", \"type\": \"quantitative\"}, \"y\": {\"aggregate\": \"count\", \"type\": \"quantitative\"}}, \"$schema\": \"https://vega.github.io/schema/vega-lite/v5.14.1.json\"}, {\"mode\": \"vega-lite\"});\n",
       "</script>"
      ],
      "text/plain": [
       "alt.Chart(...)"
      ]
     },
     "metadata": {},
     "output_type": "display_data"
    },
    {
     "data": {
      "text/html": [
       "\n",
       "<style>\n",
       "  #altair-viz-dcbcad47b1e04aed8263406280bf81d2.vega-embed {\n",
       "    width: 100%;\n",
       "    display: flex;\n",
       "  }\n",
       "\n",
       "  #altair-viz-dcbcad47b1e04aed8263406280bf81d2.vega-embed details,\n",
       "  #altair-viz-dcbcad47b1e04aed8263406280bf81d2.vega-embed details summary {\n",
       "    position: relative;\n",
       "  }\n",
       "</style>\n",
       "<div id=\"altair-viz-dcbcad47b1e04aed8263406280bf81d2\"></div>\n",
       "<script type=\"text/javascript\">\n",
       "  var VEGA_DEBUG = (typeof VEGA_DEBUG == \"undefined\") ? {} : VEGA_DEBUG;\n",
       "  (function(spec, embedOpt){\n",
       "    let outputDiv = document.currentScript.previousElementSibling;\n",
       "    if (outputDiv.id !== \"altair-viz-dcbcad47b1e04aed8263406280bf81d2\") {\n",
       "      outputDiv = document.getElementById(\"altair-viz-dcbcad47b1e04aed8263406280bf81d2\");\n",
       "    }\n",
       "    const paths = {\n",
       "      \"vega\": \"https://cdn.jsdelivr.net/npm/vega@5?noext\",\n",
       "      \"vega-lib\": \"https://cdn.jsdelivr.net/npm/vega-lib?noext\",\n",
       "      \"vega-lite\": \"https://cdn.jsdelivr.net/npm/vega-lite@5.14.1?noext\",\n",
       "      \"vega-embed\": \"https://cdn.jsdelivr.net/npm/vega-embed@6?noext\",\n",
       "    };\n",
       "\n",
       "    function maybeLoadScript(lib, version) {\n",
       "      var key = `${lib.replace(\"-\", \"\")}_version`;\n",
       "      return (VEGA_DEBUG[key] == version) ?\n",
       "        Promise.resolve(paths[lib]) :\n",
       "        new Promise(function(resolve, reject) {\n",
       "          var s = document.createElement('script');\n",
       "          document.getElementsByTagName(\"head\")[0].appendChild(s);\n",
       "          s.async = true;\n",
       "          s.onload = () => {\n",
       "            VEGA_DEBUG[key] = version;\n",
       "            return resolve(paths[lib]);\n",
       "          };\n",
       "          s.onerror = () => reject(`Error loading script: ${paths[lib]}`);\n",
       "          s.src = paths[lib];\n",
       "        });\n",
       "    }\n",
       "\n",
       "    function showError(err) {\n",
       "      outputDiv.innerHTML = `<div class=\"error\" style=\"color:red;\">${err}</div>`;\n",
       "      throw err;\n",
       "    }\n",
       "\n",
       "    function displayChart(vegaEmbed) {\n",
       "      vegaEmbed(outputDiv, spec, embedOpt)\n",
       "        .catch(err => showError(`Javascript Error: ${err.message}<br>This usually means there's a typo in your chart specification. See the javascript console for the full traceback.`));\n",
       "    }\n",
       "\n",
       "    if(typeof define === \"function\" && define.amd) {\n",
       "      requirejs.config({paths});\n",
       "      require([\"vega-embed\"], displayChart, err => showError(`Error loading script: ${err.message}`));\n",
       "    } else {\n",
       "      maybeLoadScript(\"vega\", \"5\")\n",
       "        .then(() => maybeLoadScript(\"vega-lite\", \"5.14.1\"))\n",
       "        .then(() => maybeLoadScript(\"vega-embed\", \"6\"))\n",
       "        .catch(showError)\n",
       "        .then(() => displayChart(vegaEmbed));\n",
       "    }\n",
       "  })({\"config\": {\"view\": {\"continuousWidth\": 300, \"continuousHeight\": 300}}, \"data\": {\"url\": \"altair-temp-data/-43f7c498b82236e90264ba1c5f28553a.json\", \"format\": {\"type\": \"json\"}}, \"mark\": {\"type\": \"bar\"}, \"encoding\": {\"x\": {\"bin\": {\"maxbins\": 100}, \"field\": \"cosine\", \"type\": \"quantitative\"}, \"y\": {\"aggregate\": \"count\", \"type\": \"quantitative\"}}, \"$schema\": \"https://vega.github.io/schema/vega-lite/v5.14.1.json\"}, {\"mode\": \"vega-lite\"});\n",
       "</script>"
      ],
      "text/plain": [
       "alt.Chart(...)"
      ]
     },
     "metadata": {},
     "output_type": "display_data"
    },
    {
     "data": {
      "text/html": [
       "\n",
       "<style>\n",
       "  #altair-viz-88bc0061c64e4a8a9a90ce36cb52d1ca.vega-embed {\n",
       "    width: 100%;\n",
       "    display: flex;\n",
       "  }\n",
       "\n",
       "  #altair-viz-88bc0061c64e4a8a9a90ce36cb52d1ca.vega-embed details,\n",
       "  #altair-viz-88bc0061c64e4a8a9a90ce36cb52d1ca.vega-embed details summary {\n",
       "    position: relative;\n",
       "  }\n",
       "</style>\n",
       "<div id=\"altair-viz-88bc0061c64e4a8a9a90ce36cb52d1ca\"></div>\n",
       "<script type=\"text/javascript\">\n",
       "  var VEGA_DEBUG = (typeof VEGA_DEBUG == \"undefined\") ? {} : VEGA_DEBUG;\n",
       "  (function(spec, embedOpt){\n",
       "    let outputDiv = document.currentScript.previousElementSibling;\n",
       "    if (outputDiv.id !== \"altair-viz-88bc0061c64e4a8a9a90ce36cb52d1ca\") {\n",
       "      outputDiv = document.getElementById(\"altair-viz-88bc0061c64e4a8a9a90ce36cb52d1ca\");\n",
       "    }\n",
       "    const paths = {\n",
       "      \"vega\": \"https://cdn.jsdelivr.net/npm/vega@5?noext\",\n",
       "      \"vega-lib\": \"https://cdn.jsdelivr.net/npm/vega-lib?noext\",\n",
       "      \"vega-lite\": \"https://cdn.jsdelivr.net/npm/vega-lite@5.14.1?noext\",\n",
       "      \"vega-embed\": \"https://cdn.jsdelivr.net/npm/vega-embed@6?noext\",\n",
       "    };\n",
       "\n",
       "    function maybeLoadScript(lib, version) {\n",
       "      var key = `${lib.replace(\"-\", \"\")}_version`;\n",
       "      return (VEGA_DEBUG[key] == version) ?\n",
       "        Promise.resolve(paths[lib]) :\n",
       "        new Promise(function(resolve, reject) {\n",
       "          var s = document.createElement('script');\n",
       "          document.getElementsByTagName(\"head\")[0].appendChild(s);\n",
       "          s.async = true;\n",
       "          s.onload = () => {\n",
       "            VEGA_DEBUG[key] = version;\n",
       "            return resolve(paths[lib]);\n",
       "          };\n",
       "          s.onerror = () => reject(`Error loading script: ${paths[lib]}`);\n",
       "          s.src = paths[lib];\n",
       "        });\n",
       "    }\n",
       "\n",
       "    function showError(err) {\n",
       "      outputDiv.innerHTML = `<div class=\"error\" style=\"color:red;\">${err}</div>`;\n",
       "      throw err;\n",
       "    }\n",
       "\n",
       "    function displayChart(vegaEmbed) {\n",
       "      vegaEmbed(outputDiv, spec, embedOpt)\n",
       "        .catch(err => showError(`Javascript Error: ${err.message}<br>This usually means there's a typo in your chart specification. See the javascript console for the full traceback.`));\n",
       "    }\n",
       "\n",
       "    if(typeof define === \"function\" && define.amd) {\n",
       "      requirejs.config({paths});\n",
       "      require([\"vega-embed\"], displayChart, err => showError(`Error loading script: ${err.message}`));\n",
       "    } else {\n",
       "      maybeLoadScript(\"vega\", \"5\")\n",
       "        .then(() => maybeLoadScript(\"vega-lite\", \"5.14.1\"))\n",
       "        .then(() => maybeLoadScript(\"vega-embed\", \"6\"))\n",
       "        .catch(showError)\n",
       "        .then(() => displayChart(vegaEmbed));\n",
       "    }\n",
       "  })({\"config\": {\"view\": {\"continuousWidth\": 300, \"continuousHeight\": 300}}, \"data\": {\"url\": \"altair-temp-data/-d5504b8f15e85ac3b9256555f511a2e0.json\", \"format\": {\"type\": \"json\"}}, \"mark\": {\"type\": \"bar\"}, \"encoding\": {\"x\": {\"bin\": {\"maxbins\": 100}, \"field\": \"uniform\", \"type\": \"quantitative\"}, \"y\": {\"aggregate\": \"count\", \"type\": \"quantitative\"}}, \"$schema\": \"https://vega.github.io/schema/vega-lite/v5.14.1.json\"}, {\"mode\": \"vega-lite\"});\n",
       "</script>"
      ],
      "text/plain": [
       "alt.Chart(...)"
      ]
     },
     "metadata": {},
     "output_type": "display_data"
    }
   ],
   "source": [
    "# (1)\n",
    "\n",
    "def get_rv_sample_mean(distribution, n_sample = 10000):\n",
    "    samp = distribution.rvs(n_sample)\n",
    "    return samp.mean()\n",
    "\n",
    "\n",
    "def list_of_means(distribution, n_means = 1000, n_sample = 10000):\n",
    "    samp_means = []\n",
    "    for i in range(n_means):\n",
    "        samp_means.append(get_rv_sample_mean(distribution, n_sample))\n",
    "    return samp_means\n",
    "\n",
    "\n",
    "distributions = dict([(\"normal\", stats.norm(0,1)),\n",
    "                 (\"cosine\", stats.cosine(1,1)),\n",
    "                 (\"uniform\", stats.uniform(0, 1))\n",
    "                ])\n",
    "\n",
    "\n",
    "means = pd.DataFrame({distribution_name: list_of_means(distribution)\n",
    "                  for distribution_name, distribution in distributions.items()})\n",
    "\n",
    "\n",
    "for dist in distributions:\n",
    "    nplot = alt.Chart(means[[dist]]).mark_bar().encode(alt.X(dist, bin=alt.Bin(maxbins=100)), y='count()',)\n",
    "    nplot.display()\n"
   ]
  },
  {
   "cell_type": "markdown",
   "metadata": {},
   "source": [
    "*For solutions, see `solutions/plotting_distributions.py`*"
   ]
  },
  {
   "cell_type": "markdown",
   "metadata": {},
   "source": [
    "### Cumulative Density Function\n",
    "\n",
    "A cumulative density function (CDF) tells us the probability of a value being less than, or equal to, a given value. A CDF is normally more useful for everyday usage.\n",
    "\n",
    "Here is the CDF for the normal distribution:"
   ]
  },
  {
   "cell_type": "code",
   "execution_count": 26,
   "metadata": {},
   "outputs": [],
   "source": [
    "distribution = stats.norm()"
   ]
  },
  {
   "cell_type": "code",
   "execution_count": 27,
   "metadata": {},
   "outputs": [],
   "source": [
    "x = np.linspace(-5, 5, 1000)\n",
    "y_cdf = distribution.cdf(x)"
   ]
  },
  {
   "cell_type": "code",
   "execution_count": 28,
   "metadata": {},
   "outputs": [
    {
     "data": {
      "image/png": "[encoded data removed]",
      "text/plain": [
       "<Figure size 640x480 with 1 Axes>"
      ]
     },
     "metadata": {},
     "output_type": "display_data"
    }
   ],
   "source": [
    "plt.plot(x, y_cdf);"
   ]
  },
  {
   "cell_type": "markdown",
   "metadata": {},
   "source": [
    "\n",
    "This graph allows us to compute the probability that a random value is chosen from the normal distribution ($\\mu=0, \\sigma=1$) will be less than or equal to the given $x$ value.\n",
    "\n",
    "For example, to determine the probability a given value is less than or equal to 1.2, we find the $y$ value corresponding to the given $x$ value:"
   ]
  },
  {
   "cell_type": "code",
   "execution_count": 37,
   "metadata": {},
   "outputs": [
    {
     "name": "stdout",
     "output_type": "stream",
     "text": [
      "At x=1.2, y=0.885\n"
     ]
    },
    {
     "data": {
      "image/png": "[encoded data removed]",
      "text/plain": [
       "<Figure size 640x480 with 1 Axes>"
      ]
     },
     "metadata": {},
     "output_type": "display_data"
    }
   ],
   "source": [
    "x_0 = 1.2\n",
    "y_0 = distribution.cdf(x_0)\n",
    "\n",
    "plt.plot(x, y_cdf)\n",
    "plt.plot([x[0], x_0], [y_0, y_0], '--')\n",
    "plt.plot([x_0, x_0], [0, y_0], '--')\n",
    "print(\"At x={0}, y={1:.3f}\".format(x_0, y_0))"
   ]
  },
  {
   "cell_type": "markdown",
   "metadata": {},
   "source": [
    "Some major properties of a CDF, defined as $F_X(x)$ are:\n",
    " \n",
    "* The range (the values y can take) are between (and including) 0 and 1. This comes from its use as a probability computation - see the next point. Formally, $0 <= F_X(x) <= 1$ for any value $x$\n",
    "* The likelihood a value is less than or equal to infinity must be 1, and the likelihood it is less than or equal to negative infinity must be 0. Formally, $F_X(-\\infty)=0$ and $F_X(\\infty)=1$\n",
    "* The CDF value is *increasing*. That is, it must have a positive or zero slope (but not a negative one). Formally, $F_X(a) <= F_X(b) \\text{ iff } a < b$\n",
    " \n",
    "Further, if your random variable has a domain, then the CDF is 0 for all values less than the minimum domain, and 1 for any value above the maximum of the domain.\n",
    "\n",
    "To find the probability that a random variable lies within a range, subtract the value of the CDF at the minimum from the value at the maximum:\n",
    "\n",
    "$P(a < X <= b) = F_X(b) - F_X(a)$\n",
    "\n",
    "For a continuous distribution (like the normal distribution), the CDF is a smooth graph. Its shape will vary, but will follow the general pattern as seen above.\n",
    "\n",
    "For a discrete distribution, the graph is still increasing, but represents a \"staircase\", where the value of $F_X(x)$ between valid values remains the same. For example, for a die roll, the value of $F_X(3) == F_X(3.1)$. This makes sense, as no values between 3.0 and 3.1 can be obtained on a die, so the value $P(X<=3)$ must be the same as $P(X<=3.1)$."
   ]
  },
  {
   "cell_type": "markdown",
   "metadata": {},
   "source": [
    "#### Exercises\n",
    "\n",
    "1. Plot the relationship between the mean of a normal distribution as $x$ (with a fixed standard deviation of 1), and the area under the curve between 0 and 1 as the $y$ axis.\n",
    "2. Remake the plot, but have the standard deviation vary as $x$, and the mean fixed as 0. How can you characterise the relationship?\n",
    "\n",
    "#### Extended exercise\n",
    "\n",
    "Plot the CDF for rolling two dice, where the x value is the sum of the two dice, and the y value is the CDF for the distribution."
   ]
  },
  {
   "cell_type": "code",
   "execution_count": 30,
   "metadata": {},
   "outputs": [
    {
     "name": "stdout",
     "output_type": "stream",
     "text": [
      "The area between 0 and 1 decreases as the standard deviation increases are values will spread out and hence have less between 0 and 1.\n"
     ]
    },
    {
     "data": {
      "image/png": "[encoded data removed]",
      "text/plain": [
       "<Figure size 640x480 with 1 Axes>"
      ]
     },
     "metadata": {},
     "output_type": "display_data"
    }
   ],
   "source": [
    "# Exercise 1\n",
    "x_values_1 = np.linspace(-5, 5, 1000)\n",
    "distributions_1 = [stats.norm(x, 1) for x in x_values_1]\n",
    "y_1 = np.array([distribution.cdf(1) - distribution.cdf(0)\n",
    "               for distribution in distributions_1])\n",
    "plt.plot(x_values_1, y_1, \"r\")\n",
    "\n",
    "# Exercise 2\n",
    "x_values_2 = np.linspace(0.1, 20, 1000)\n",
    "distributions_2 = [stats.norm(0, x) for x in x_values_2]\n",
    "y_2 = np.array([distribution.cdf(1) - distribution.cdf(0)\n",
    "               for distribution in distributions_2])\n",
    "plt.plot(x_values_2, y_2)\n",
    "print(\"The area between 0 and 1 decreases as the standard deviation increases as values will spread out and hence have less between 0 and 1.\")"
   ]
  },
  {
   "cell_type": "markdown",
   "metadata": {},
   "source": [
    "*For solutions, see `solutions/cdf_relationships.py`*"
   ]
  }
 ],
 "metadata": {
  "kernelspec": {
   "display_name": "Python 3",
   "language": "python",
   "name": "python3"
  },
  "language_info": {
   "codemirror_mode": {
    "name": "ipython",
    "version": 3
   },
   "file_extension": ".py",
   "mimetype": "text/x-python",
   "name": "python",
   "nbconvert_exporter": "python",
   "pygments_lexer": "ipython3",
   "version": "3.10.12"
  }
 },
 "nbformat": 4,
 "nbformat_minor": 2
}
